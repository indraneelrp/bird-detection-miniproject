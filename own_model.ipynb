{
 "cells": [
  {
   "cell_type": "code",
   "execution_count": 2,
   "metadata": {},
   "outputs": [],
   "source": [
    "import numpy as np\n",
    "import matplotlib.pyplot as plt\n",
    "import keras\n",
    "import cv2\n",
    "\n",
    "train = np.load(\"train_data.npy\")"
   ]
  },
  {
   "cell_type": "code",
   "execution_count": 44,
   "metadata": {},
   "outputs": [],
   "source": [
    "correct_answers = np.load(\"train_labels.npy\")\n",
    "\n",
    "# for i in range(0, len(train[1], 3)):\n",
    "# DONT have to read it in manually - use reshape\n",
    "X_train = np.zeros( (10000, 32, 32, 3) )\n",
    "\n",
    "i=0\n",
    "for row in train:\n",
    "    #row = train[i,:]\n",
    "    img = np.array(row).reshape(32, 32, 3)\n",
    "    X_train[i] = img\n",
    "    i += 1\n",
    "\n",
    "# img_test = np.array(train[1]).reshape(32, 32, 3)\n",
    "# plt.imshow(img_test)"
   ]
  },
  {
   "cell_type": "code",
   "execution_count": 58,
   "metadata": {},
   "outputs": [],
   "source": [
    "# Defining the structure of the model\n",
    "from keras.models import Sequential\n",
    "from keras.layers import Activation, Dropout, Flatten, Conv2D, MaxPooling2D, Dense\n",
    "import tensorflow as tf\n",
    "\n",
    "X_train = tf.convert_to_tensor(X_train)\n",
    "insert_shape = (32,32,3)\n",
    "\n",
    "model = Sequential()\n",
    "\n",
    "model.add(Conv2D(filters=32,kernel_size=(3,3), input_shape= insert_shape, activation='relu'))\n",
    "model.add(MaxPooling2D(pool_size=(2,2)))\n",
    "\n",
    "model.add(Conv2D(filters=64,kernel_size=(3,3), input_shape= insert_shape, activation='relu'))\n",
    "model.add(MaxPooling2D(pool_size=(2,2)))\n",
    "\n",
    "model.add(Conv2D(filters=64,kernel_size=(3,3), input_shape= insert_shape, activation='relu'))\n",
    "model.add(MaxPooling2D(pool_size=(2,2)))\n",
    "\n",
    "model.add(Flatten())\n",
    "model.add(Dense(128, activation='relu'))\n",
    "\n",
    "model.add(Dropout(0.4))\n",
    "\n",
    "# final layer has to conform to output. 1 neuron- bird or non-bird\n",
    "model.add(Dense(1, activation='sigmoid'))\n",
    "\n",
    "model.compile(loss='binary_crossentropy',\n",
    "              optimizer='adam',\n",
    "              metrics=['accuracy']\n",
    "              )\n",
    "\n",
    "#model.summary()"
   ]
  },
  {
   "cell_type": "code",
   "execution_count": 59,
   "metadata": {},
   "outputs": [
    {
     "name": "stdout",
     "output_type": "stream",
     "text": [
      "Epoch 1/15\n",
      "500/500 [==============================] - 5s 9ms/step - loss: 0.8470 - accuracy: 0.5284 - val_loss: 0.7065 - val_accuracy: 0.5660\n",
      "Epoch 2/15\n",
      "500/500 [==============================] - 4s 8ms/step - loss: 0.6868 - accuracy: 0.5416 - val_loss: 0.6720 - val_accuracy: 0.5605\n",
      "Epoch 3/15\n",
      "500/500 [==============================] - 4s 8ms/step - loss: 0.6763 - accuracy: 0.5616 - val_loss: 0.6633 - val_accuracy: 0.5895\n",
      "Epoch 4/15\n",
      "500/500 [==============================] - 4s 8ms/step - loss: 0.6707 - accuracy: 0.5756 - val_loss: 0.6685 - val_accuracy: 0.5635\n",
      "Epoch 5/15\n",
      "500/500 [==============================] - 4s 8ms/step - loss: 0.6623 - accuracy: 0.5867 - val_loss: 0.6639 - val_accuracy: 0.5850\n",
      "Epoch 6/15\n",
      "500/500 [==============================] - 4s 8ms/step - loss: 0.6468 - accuracy: 0.6234 - val_loss: 0.6039 - val_accuracy: 0.6745\n",
      "Epoch 7/15\n",
      "500/500 [==============================] - 4s 8ms/step - loss: 0.6017 - accuracy: 0.6810 - val_loss: 0.6040 - val_accuracy: 0.6795\n",
      "Epoch 8/15\n",
      "500/500 [==============================] - 4s 8ms/step - loss: 0.5690 - accuracy: 0.7145 - val_loss: 0.5653 - val_accuracy: 0.6995\n",
      "Epoch 9/15\n",
      "500/500 [==============================] - 4s 8ms/step - loss: 0.5459 - accuracy: 0.7275 - val_loss: 0.5565 - val_accuracy: 0.7260\n",
      "Epoch 10/15\n",
      "500/500 [==============================] - 4s 8ms/step - loss: 0.5308 - accuracy: 0.7390 - val_loss: 0.5295 - val_accuracy: 0.7390\n",
      "Epoch 11/15\n",
      "500/500 [==============================] - 4s 8ms/step - loss: 0.5087 - accuracy: 0.7498 - val_loss: 0.5345 - val_accuracy: 0.7405\n",
      "Epoch 12/15\n",
      "500/500 [==============================] - 4s 8ms/step - loss: 0.5016 - accuracy: 0.7615 - val_loss: 0.5273 - val_accuracy: 0.7545\n",
      "Epoch 13/15\n",
      "500/500 [==============================] - 4s 8ms/step - loss: 0.4779 - accuracy: 0.7750 - val_loss: 0.5257 - val_accuracy: 0.7565\n",
      "Epoch 14/15\n",
      "500/500 [==============================] - 4s 8ms/step - loss: 0.4561 - accuracy: 0.7822 - val_loss: 0.5318 - val_accuracy: 0.7555\n",
      "Epoch 15/15\n",
      "500/500 [==============================] - 4s 8ms/step - loss: 0.4268 - accuracy: 0.8020 - val_loss: 0.5921 - val_accuracy: 0.7445\n"
     ]
    },
    {
     "data": {
      "text/plain": [
       "[0.5283750295639038,\n",
       " 0.5416250228881836,\n",
       " 0.5616250038146973,\n",
       " 0.5756250023841858,\n",
       " 0.5867499709129333,\n",
       " 0.6233749985694885,\n",
       " 0.6809999942779541,\n",
       " 0.7145000100135803,\n",
       " 0.7275000214576721,\n",
       " 0.7390000224113464,\n",
       " 0.749750018119812,\n",
       " 0.7615000009536743,\n",
       " 0.7749999761581421,\n",
       " 0.7822499871253967,\n",
       " 0.8019999861717224]"
      ]
     },
     "execution_count": 59,
     "metadata": {},
     "output_type": "execute_result"
    }
   ],
   "source": [
    "# setting up for training\n",
    "batch_size = 16\n",
    "\n",
    "results = model.fit(X_train, correct_answers, batch_size=16, epochs=15, validation_split=0.2)\n",
    "results.history['accuracy']\n"
   ]
  },
  {
   "cell_type": "code",
   "execution_count": 60,
   "metadata": {},
   "outputs": [
    {
     "data": {
      "text/plain": [
       "[<matplotlib.lines.Line2D at 0x7f8bc1c84ac0>]"
      ]
     },
     "execution_count": 60,
     "metadata": {},
     "output_type": "execute_result"
    },
    {
     "data": {
      "image/png": "[encoded data removed]",
      "text/plain": [
       "<Figure size 640x480 with 1 Axes>"
      ]
     },
     "metadata": {},
     "output_type": "display_data"
    }
   ],
   "source": [
    "plt.plot(results.history['accuracy'])"
   ]
  },
  {
   "cell_type": "code",
   "execution_count": 61,
   "metadata": {},
   "outputs": [],
   "source": [
    "model.save('trained_bird_nonbird_model1.h5')"
   ]
  }
 ],
 "metadata": {
  "kernelspec": {
   "display_name": "py38-cv",
   "language": "python",
   "name": "python3"
  },
  "language_info": {
   "codemirror_mode": {
    "name": "ipython",
    "version": 3
   },
   "file_extension": ".py",
   "mimetype": "text/x-python",
   "name": "python",
   "nbconvert_exporter": "python",
   "pygments_lexer": "ipython3",
   "version": "3.8.16"
  },
  "orig_nbformat": 4,
  "vscode": {
   "interpreter": {
    "hash": "ee0c16182bfe3ee67f587421e0716a12b15b625d39400d7810d11b180aa0e14f"
   }
  }
 },
 "nbformat": 4,
 "nbformat_minor": 2
}
